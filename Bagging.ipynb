{
 "cells": [
  {
   "cell_type": "code",
   "execution_count": 41,
   "id": "87e791b5",
   "metadata": {},
   "outputs": [],
   "source": [
    "import pandas as pd\n",
    "import numpy as np\n",
    "from sklearn.model_selection import train_test_split, GridSearchCV\n",
    "from sklearn.metrics import r2_score, mean_squared_error\n",
    "from sklearn.ensemble import BaggingRegressor"
   ]
  },
  {
   "cell_type": "code",
   "execution_count": 7,
   "id": "4d2870f0",
   "metadata": {},
   "outputs": [],
   "source": [
    "hit = pd.read_csv(\"Hitters.csv\")\n",
    "df = hit.copy()\n",
    "df = df.dropna()\n",
    "dms = pd.get_dummies(df[[\"League\", \"Division\", \"NewLeague\"]])\n",
    "\n",
    "y = df[\"Salary\"]\n",
    "X_ = df.drop([\"Salary\", \"League\", \"Division\", \"NewLeague\"], axis=1).astype(\"float64\")\n",
    "X = pd.concat([X_, dms[[\"League_N\", \"Division_W\", \"NewLeague_N\"]]], axis = 1)\n",
    "\n",
    "X_train, X_test, y_train, y_test = train_test_split(X, y, test_size = 25, random_state = 42)"
   ]
  },
  {
   "cell_type": "code",
   "execution_count": 13,
   "id": "a430d3a3",
   "metadata": {},
   "outputs": [
    {
     "data": {
      "text/html": [
       "<style>#sk-container-id-1 {color: black;background-color: white;}#sk-container-id-1 pre{padding: 0;}#sk-container-id-1 div.sk-toggleable {background-color: white;}#sk-container-id-1 label.sk-toggleable__label {cursor: pointer;display: block;width: 100%;margin-bottom: 0;padding: 0.3em;box-sizing: border-box;text-align: center;}#sk-container-id-1 label.sk-toggleable__label-arrow:before {content: \"▸\";float: left;margin-right: 0.25em;color: #696969;}#sk-container-id-1 label.sk-toggleable__label-arrow:hover:before {color: black;}#sk-container-id-1 div.sk-estimator:hover label.sk-toggleable__label-arrow:before {color: black;}#sk-container-id-1 div.sk-toggleable__content {max-height: 0;max-width: 0;overflow: hidden;text-align: left;background-color: #f0f8ff;}#sk-container-id-1 div.sk-toggleable__content pre {margin: 0.2em;color: black;border-radius: 0.25em;background-color: #f0f8ff;}#sk-container-id-1 input.sk-toggleable__control:checked~div.sk-toggleable__content {max-height: 200px;max-width: 100%;overflow: auto;}#sk-container-id-1 input.sk-toggleable__control:checked~label.sk-toggleable__label-arrow:before {content: \"▾\";}#sk-container-id-1 div.sk-estimator input.sk-toggleable__control:checked~label.sk-toggleable__label {background-color: #d4ebff;}#sk-container-id-1 div.sk-label input.sk-toggleable__control:checked~label.sk-toggleable__label {background-color: #d4ebff;}#sk-container-id-1 input.sk-hidden--visually {border: 0;clip: rect(1px 1px 1px 1px);clip: rect(1px, 1px, 1px, 1px);height: 1px;margin: -1px;overflow: hidden;padding: 0;position: absolute;width: 1px;}#sk-container-id-1 div.sk-estimator {font-family: monospace;background-color: #f0f8ff;border: 1px dotted black;border-radius: 0.25em;box-sizing: border-box;margin-bottom: 0.5em;}#sk-container-id-1 div.sk-estimator:hover {background-color: #d4ebff;}#sk-container-id-1 div.sk-parallel-item::after {content: \"\";width: 100%;border-bottom: 1px solid gray;flex-grow: 1;}#sk-container-id-1 div.sk-label:hover label.sk-toggleable__label {background-color: #d4ebff;}#sk-container-id-1 div.sk-serial::before {content: \"\";position: absolute;border-left: 1px solid gray;box-sizing: border-box;top: 0;bottom: 0;left: 50%;z-index: 0;}#sk-container-id-1 div.sk-serial {display: flex;flex-direction: column;align-items: center;background-color: white;padding-right: 0.2em;padding-left: 0.2em;position: relative;}#sk-container-id-1 div.sk-item {position: relative;z-index: 1;}#sk-container-id-1 div.sk-parallel {display: flex;align-items: stretch;justify-content: center;background-color: white;position: relative;}#sk-container-id-1 div.sk-item::before, #sk-container-id-1 div.sk-parallel-item::before {content: \"\";position: absolute;border-left: 1px solid gray;box-sizing: border-box;top: 0;bottom: 0;left: 50%;z-index: -1;}#sk-container-id-1 div.sk-parallel-item {display: flex;flex-direction: column;z-index: 1;position: relative;background-color: white;}#sk-container-id-1 div.sk-parallel-item:first-child::after {align-self: flex-end;width: 50%;}#sk-container-id-1 div.sk-parallel-item:last-child::after {align-self: flex-start;width: 50%;}#sk-container-id-1 div.sk-parallel-item:only-child::after {width: 0;}#sk-container-id-1 div.sk-dashed-wrapped {border: 1px dashed gray;margin: 0 0.4em 0.5em 0.4em;box-sizing: border-box;padding-bottom: 0.4em;background-color: white;}#sk-container-id-1 div.sk-label label {font-family: monospace;font-weight: bold;display: inline-block;line-height: 1.2em;}#sk-container-id-1 div.sk-label-container {text-align: center;}#sk-container-id-1 div.sk-container {/* jupyter's `normalize.less` sets `[hidden] { display: none; }` but bootstrap.min.css set `[hidden] { display: none !important; }` so we also need the `!important` here to be able to override the default hidden behavior on the sphinx rendered scikit-learn.org. See: https://github.com/scikit-learn/scikit-learn/issues/21755 */display: inline-block !important;position: relative;}#sk-container-id-1 div.sk-text-repr-fallback {display: none;}</style><div id=\"sk-container-id-1\" class=\"sk-top-container\"><div class=\"sk-text-repr-fallback\"><pre>BaggingRegressor(bootstrap_features=True)</pre><b>In a Jupyter environment, please rerun this cell to show the HTML representation or trust the notebook. <br />On GitHub, the HTML representation is unable to render, please try loading this page with nbviewer.org.</b></div><div class=\"sk-container\" hidden><div class=\"sk-item\"><div class=\"sk-estimator sk-toggleable\"><input class=\"sk-toggleable__control sk-hidden--visually\" id=\"sk-estimator-id-1\" type=\"checkbox\" checked><label for=\"sk-estimator-id-1\" class=\"sk-toggleable__label sk-toggleable__label-arrow\">BaggingRegressor</label><div class=\"sk-toggleable__content\"><pre>BaggingRegressor(bootstrap_features=True)</pre></div></div></div></div></div>"
      ],
      "text/plain": [
       "BaggingRegressor(bootstrap_features=True)"
      ]
     },
     "execution_count": 13,
     "metadata": {},
     "output_type": "execute_result"
    }
   ],
   "source": [
    "# Model Kurulumu\n",
    "bagging = BaggingRegressor(bootstrap_features = True)\n",
    "\n",
    "# Model Eğitimi\n",
    "bagging.fit(X_train, y_train)"
   ]
  },
  {
   "cell_type": "code",
   "execution_count": 18,
   "id": "c34c37f8",
   "metadata": {},
   "outputs": [
    {
     "data": {
      "text/plain": [
       "10"
      ]
     },
     "execution_count": 18,
     "metadata": {},
     "output_type": "execute_result"
    }
   ],
   "source": [
    "# Kaç tane ağaç modeli olduğunu bulma\n",
    "bagging.n_estimators"
   ]
  },
  {
   "cell_type": "code",
   "execution_count": 19,
   "id": "b03f16e7",
   "metadata": {},
   "outputs": [
    {
     "data": {
      "text/plain": [
       "[DecisionTreeRegressor(random_state=1833531455),\n",
       " DecisionTreeRegressor(random_state=918373910),\n",
       " DecisionTreeRegressor(random_state=950988185),\n",
       " DecisionTreeRegressor(random_state=1763694547),\n",
       " DecisionTreeRegressor(random_state=675263319),\n",
       " DecisionTreeRegressor(random_state=1715948060),\n",
       " DecisionTreeRegressor(random_state=88948445),\n",
       " DecisionTreeRegressor(random_state=1555197514),\n",
       " DecisionTreeRegressor(random_state=2077604417),\n",
       " DecisionTreeRegressor(random_state=1554516318)]"
      ]
     },
     "execution_count": 19,
     "metadata": {},
     "output_type": "execute_result"
    }
   ],
   "source": [
    "# Ağaç modellerine erişim\n",
    "bagging.estimators_"
   ]
  },
  {
   "cell_type": "code",
   "execution_count": 22,
   "id": "4475e60f",
   "metadata": {
    "scrolled": true
   },
   "outputs": [
    {
     "data": {
      "text/plain": [
       "[array([177, 178, 166, 213, 228,  49,  81, 187,  59, 126, 172,  23, 211,\n",
       "          0, 155, 109,   6,   6,  13,   6, 112, 160, 104,  53, 227,  67,\n",
       "         72, 166, 158, 110,  15, 235, 100, 204, 231, 236, 176,  44,  53,\n",
       "         55, 217,  15, 194, 157, 192,  60,  45,  42, 157, 200, 173,  74,\n",
       "         59,  58,  43, 120, 143,  90, 180,  51, 161, 130,  77,  35, 151,\n",
       "        111, 201, 136, 185, 141, 127,  15, 207, 178, 145, 200, 115,  37,\n",
       "         41, 196, 227,  31,   2,  19,  96,  63,   0, 223,   7, 206,  83,\n",
       "        177,  59,  29,  48,  52, 227, 142, 143, 155,  33, 154,  61, 198,\n",
       "         16, 178, 226,  37,  57, 164, 138, 202,  86,  45, 112, 234,  89,\n",
       "        198, 112, 114,   2,  23, 188, 233, 102, 229, 231,  75, 224,  46,\n",
       "        104,  49,  46, 183, 153, 101, 206,   0,  96, 130, 194,  67, 117,\n",
       "        220, 219, 174, 132, 190, 135, 144, 140, 136, 227,  63, 221,  55,\n",
       "        112,  43, 213, 133, 118, 232,   8, 102, 138,  64,  96, 134,  75,\n",
       "        207, 174,  40, 130, 147, 166,  97,  69, 111,  58, 145,   7,  86,\n",
       "        165, 185, 149,  49,  53,  34, 107, 100, 105, 226,  83,  49,  92,\n",
       "         13, 108,   5, 113, 122, 129, 237,  25,  97,  86, 110, 162, 192,\n",
       "         47,  14,  75,  70, 187, 131, 100, 165,  45, 205, 113, 207, 230,\n",
       "        127, 159, 171,  14, 133, 224, 193,  79,  66, 183,  58, 100, 119,\n",
       "        138, 207, 111,  28]),\n",
       " array([146,  81,  15,  96, 166, 163,  56,  75,  42,  75, 200, 224,  68,\n",
       "        202, 152, 147,  75,  24, 193, 123, 169,  95, 136,   6, 114,  39,\n",
       "        164,  80,  46, 196, 204, 101,  18,  45, 229,  10, 163, 228,  32,\n",
       "         79,  82, 157, 127,  35, 112, 232, 121, 187,  78, 222, 225, 195,\n",
       "        194,  82,  35, 236, 164, 187, 163,  92, 121,  24,  48,  41, 226,\n",
       "        142, 152, 181, 122,  47, 118,  75, 104,  72, 169,  65,  23, 114,\n",
       "        104, 151, 194, 120, 100, 218, 103, 187, 231, 177,  53, 203,   2,\n",
       "         55,  76,  29, 125, 170, 120,  49,  98, 223, 179,  71, 147,  14,\n",
       "         94, 102,  56, 176, 192,  76, 113,  69,  98,  37,  69, 161, 140,\n",
       "        225,  82,  62, 210, 190, 128, 125,  19, 107,  70, 114, 203, 175,\n",
       "         97, 105, 195,  12, 197,  76, 218, 218, 197,  38, 190,  34, 128,\n",
       "         82,  98,  26,  71,  37, 183,  70, 227, 117, 171,  41,  79,  21,\n",
       "         44, 216, 106, 197,  11, 103, 185, 178,  80, 145, 149, 145, 172,\n",
       "         22, 163,  19, 113,  51, 135, 221, 123,  77, 199, 194, 121, 113,\n",
       "        104,  17, 107, 201, 196, 226,  99, 162, 122, 162, 191, 165, 174,\n",
       "        178,  59,  45, 171,  94, 202, 226, 130,  33, 123,  71,  24, 147,\n",
       "         56,  83,  17, 141, 154, 204, 118,  38, 143,   2, 110,  43,  23,\n",
       "         89, 188,   7,  80, 158, 216, 117, 214, 184,  33,  65, 199, 225,\n",
       "        160, 217,  63,  56]),\n",
       " array([223, 113, 128,  39,  18, 149, 129, 236, 192, 203,  82, 124, 170,\n",
       "          3,  61, 175,  25, 191,  60,  43, 197, 125,  24, 233,  94,   6,\n",
       "         19,  94, 179,  33, 208,  74, 114,  31, 206, 214,  47, 195, 200,\n",
       "        161, 170, 180,  88,   2, 115, 139, 176,  55, 136,  78, 168, 139,\n",
       "         75, 108, 218,  84, 223, 115, 141, 204, 186, 213, 163, 183, 147,\n",
       "        172, 170,  48, 182,  42,  28, 184, 111, 195,  19, 121, 160, 198,\n",
       "         50,  90, 113,  58,  28, 210, 132,  76, 191, 190, 207, 192,  31,\n",
       "        134, 220,  66,  81, 108, 155,  16, 233, 188,  34,   4, 127, 227,\n",
       "         16,  88, 151, 141, 199, 188,  38,  25,  79,   9, 129,  17,  89,\n",
       "        204,  50, 231,  65, 137,  32, 209,  82, 108,  46, 208, 174,  79,\n",
       "        137,  69,  74, 106,   3, 117, 117, 225, 138, 234, 118, 165,  75,\n",
       "        122,  91, 147,  65, 161, 235, 193, 108,  29,  70,  93, 228, 164,\n",
       "        122, 156, 163,   7, 142,   0, 135, 210,  80, 235,  54,  46, 224,\n",
       "        105, 116,  70, 159, 101,  61,  52, 157,  66, 225, 184, 124, 162,\n",
       "        193, 111, 163, 177, 105,  60, 187,  36, 174, 211,  95, 144,  26,\n",
       "        148, 175, 157,  12, 124, 139, 171,  91,  71, 186, 122,  92,  19,\n",
       "         96, 196,   3, 200,  83,  10, 100, 232,  10,  47, 118, 208, 197,\n",
       "         41, 180, 116, 174,  59,  63, 172, 188, 141,  98, 157, 104,  80,\n",
       "        230, 144,  23, 232]),\n",
       " array([219,  81,  64,  41,  86, 116, 193, 171, 106,  84,  65, 112,   5,\n",
       "        198, 208, 104, 153, 182, 148,  81, 228,  55, 145,  82, 101,  72,\n",
       "        153, 188,  65, 157,  48, 216, 201,  10, 146, 170,  23,  77, 102,\n",
       "        146,  26, 132, 179, 187, 111, 136,  85, 133,  41, 158, 159,  81,\n",
       "         25, 152, 235, 143, 206, 136,  78, 174, 119, 110,   3, 134, 218,\n",
       "        182,  22, 196,  56,   7, 161,  36,  64,  25,  57, 229, 143,   4,\n",
       "         10, 233,  23,  86,  74,  30,  22, 115, 231, 216, 105, 159,  73,\n",
       "        138, 129, 186,  22,  87,  93,  64,  27,  66, 195,  76, 144,  21,\n",
       "         98, 104,  63, 150, 158,  45, 136,  79, 204, 232, 184, 194,  76,\n",
       "        180,  54, 235, 137, 202, 175, 194,  68, 178, 191, 175,  63,  27,\n",
       "         88, 153, 150, 121, 237, 157,  13, 161, 121,  61, 109, 127, 151,\n",
       "         78, 119,   3,  41, 184, 134, 113, 210,  48,  29,  57, 222,  63,\n",
       "         46, 176,  78, 228,  89,  24,  49, 190, 148, 111,  61,  60, 236,\n",
       "        116, 100, 195,  24,  67, 129,  12,  23,  82, 122, 200, 146, 174,\n",
       "        149, 196,  59, 199,  64,  31, 215, 106, 106, 231, 211, 106,  95,\n",
       "         77,  78, 206,  91,  62, 144,  73,  86, 122,  78,   5, 169,  33,\n",
       "        197, 167, 220,  71,   8,  47, 120,  27, 125, 117, 121, 194,  99,\n",
       "         21,  94, 125,  54,   1, 237, 160,  91,  28, 128,  54, 156,  14,\n",
       "         21, 140, 113, 105]),\n",
       " array([166,  16,  35,  71,  49, 140, 218, 118,  24,  39, 158,  66,  45,\n",
       "        160, 202,  40,  70, 122, 232, 113,  45,  86, 193, 223,  46, 102,\n",
       "         55,  62, 111, 158,  31,  89, 169,  72, 127, 174, 139, 135, 120,\n",
       "         94, 212,  85, 122,  79, 161, 102,  99, 207, 151, 149,  74,  67,\n",
       "         98,  52,  77,  83,  97,  22, 139, 120, 133,   1,  86, 122,  83,\n",
       "         45, 109, 121,  78, 168,  29, 226,  24,  15, 202,  29, 122,  60,\n",
       "        177,   5,  97, 199, 231, 134, 174, 125, 169,  21,  39,  46, 179,\n",
       "         44, 175, 201, 124, 142, 173, 222, 175, 138, 221, 125,  70,  85,\n",
       "        132, 114, 107, 122, 108,   3,  18,  53, 173,  86, 202, 176,  36,\n",
       "          1,  45,  45, 171,   9, 230,  23, 125, 212,  36,  76,  70, 204,\n",
       "        219, 192,  79, 189, 193, 224, 236, 191,  73, 236, 100, 115, 111,\n",
       "        127,  12, 100,  30,  44, 229,  55, 214, 111, 109,  79, 103,  11,\n",
       "        113, 162,  27, 166,  26, 127, 107, 156, 122, 209,  64, 129, 152,\n",
       "         34, 185, 128, 227, 139,  78, 177, 104,  37, 141, 215,  54, 125,\n",
       "        162, 130, 216, 189, 217, 222, 177, 189, 223, 208, 236, 230,  40,\n",
       "        198, 183,  10, 100, 149,  81,  40,  88,  38,  63,  41,  42, 157,\n",
       "        229, 167,  21,  86,  24, 107, 106, 159,  24,  14, 173, 120, 166,\n",
       "         69,  90, 225,  67, 134, 222, 202, 167, 134,  32, 207, 140, 156,\n",
       "        203, 204,  73, 145]),\n",
       " array([  6, 178, 201,  81, 185, 162, 147,  13, 157, 182,   6, 185, 116,\n",
       "         53, 233, 221, 181,  22,  43, 130, 143, 144, 229, 160, 147, 120,\n",
       "          0, 136, 209,   7,  84,  35, 224, 203,  49,  76,  85, 216,  72,\n",
       "         26, 133,  36,  92,  69,  49, 138,  54,  33, 117,  93, 223, 195,\n",
       "         36,  27,  84, 168,  64,   3,  21,  90,  76, 103, 169, 180,  32,\n",
       "         67, 155,   1, 198,  11,  74, 229, 180,  23,  76, 201, 206, 138,\n",
       "         46, 154,  63, 162,  83, 139,   9,  61, 162, 171, 110,  62, 177,\n",
       "         56,  34, 151, 145, 154, 100,  70, 131,  39,  19, 176,  92, 107,\n",
       "        153, 182, 227, 155,   3,  70,  14,  26, 236, 114, 230, 180, 177,\n",
       "         51, 102, 168,  29, 135, 139,  59, 141, 212, 178,  32, 235, 193,\n",
       "        160,  20,  35, 204, 159,  47,  67,  41,  73,  90,  19, 221, 200,\n",
       "        232,  14, 196, 209, 224,  67, 205, 130, 119,  73, 173,  98, 201,\n",
       "         24,  77, 162,  33, 103,  27, 229, 123, 194,  21, 111,  15, 121,\n",
       "        110, 224,  95, 212, 116,   4,  45, 104,  43, 181, 141, 212,  11,\n",
       "        180,  60, 137, 177, 169, 111,  46, 126, 108, 188, 166, 235, 147,\n",
       "         65, 157, 119, 144, 189, 157, 204,  21, 202, 150, 218, 186,  58,\n",
       "        215, 147, 102, 237, 145, 225, 180,  35,  79,  16, 102, 132, 223,\n",
       "         24, 192, 188,  52, 185, 176,  19,  83, 108, 128, 192, 145, 128,\n",
       "        179, 110, 144, 189]),\n",
       " array([ 66, 231, 220, 138,  45,  15,  44, 190, 212,  33, 176,  83, 141,\n",
       "         14, 137, 152, 134, 124, 170,  50, 197,  97,  95, 202, 157, 194,\n",
       "         41,  11, 227, 122, 232,  90, 130, 231, 207,  28,  48,  79,  83,\n",
       "         10, 138, 121,   3, 219,  93, 176, 100, 103, 218, 105, 202, 149,\n",
       "        193,  16, 190, 106,  97, 224, 234,  96, 104,  80,  38, 182,  85,\n",
       "        212,  19, 182, 181,  48, 232, 225,  66, 206, 199, 171,  36,  76,\n",
       "          5, 173,  71, 137,  86, 125,  59,  70, 180, 159,  72, 101,  13,\n",
       "        112,  12,  13,  96,  86,  57, 142,  35,  76, 152, 130,  46,   5,\n",
       "        221, 151, 183,  10, 232, 189, 187,  85, 175,  80, 137, 202, 103,\n",
       "         97,  47, 159, 194,  56, 113, 169, 123,  89, 134, 102, 137,  56,\n",
       "        131,  14,  21,  83, 233,  56, 134,  68,  36, 226,  42,  46, 187,\n",
       "         60, 163, 153, 138,  33, 110,  69,  76, 154,  43,  62, 213, 123,\n",
       "        233,  22, 199, 167,  74,  95, 146, 207,  36, 154, 214, 184,  84,\n",
       "         74, 132, 235,  42, 232,  58, 231, 209, 162, 221, 219, 221,  53,\n",
       "         53, 200,  98, 189,  67,  30,  86, 103, 194,  70, 160,  89, 154,\n",
       "         30,  94, 160,  85,  37, 220,  46, 113, 202, 104,  94, 103, 206,\n",
       "         54, 125,  44,  90, 205, 162, 135,  21, 190, 133, 229, 180, 203,\n",
       "         10, 204, 170,  42,  10, 162,  91, 147, 141, 110,  55,  30, 131,\n",
       "        153, 125, 139,  33]),\n",
       " array([ 74,  22, 221,  29,  94, 154, 150, 191, 187, 129, 140,  76,  35,\n",
       "         57, 214, 132,  45, 237,   1,  50, 195, 161, 216,  76, 133,  79,\n",
       "        173, 100, 206, 187, 194,  17, 123, 131,  46,  88, 207, 160,  67,\n",
       "         22, 196, 206,  38,  18, 172, 195, 215,  54,  17,  15,  80, 223,\n",
       "         21,  86,  29,  72,  87, 216,  31, 138,  98,   9,  55, 205,  79,\n",
       "         25,  80,  86, 118, 164,  44, 126, 200,  21,  29,  49, 134, 104,\n",
       "         33, 207,  41, 219,  93, 119, 146, 160, 184, 161,  99,  98,  43,\n",
       "         70,  26,  46,  54,  77, 233,  50,  99,  44, 214, 171,   6, 115,\n",
       "        191,  26,  32,  46, 196, 146,  42, 139,  12, 208,  14, 219,  49,\n",
       "         71,   6, 180, 161, 225,  73, 198, 191,  49,  43,  39, 195, 159,\n",
       "        167, 177,   9, 173,  90, 213, 232, 135,  45, 199,  52,   5, 174,\n",
       "         87,  50, 117, 146, 193,  44,  26, 119, 110, 218,  93,  83, 211,\n",
       "        127, 208,  94,  49,  19,  88, 104,   3,  73, 140, 150, 129, 198,\n",
       "         29,   1, 205, 208,  17, 177,  29,  74, 179,  37, 192, 110, 237,\n",
       "        195, 189, 158, 158, 123, 118, 173, 125, 195,   7, 166, 233,  79,\n",
       "         56,  60, 142,  16,  92, 105, 206, 125, 181, 154, 230, 170, 167,\n",
       "        173, 199, 147,  64,  44, 158, 176, 214, 121,  57,  60, 202, 152,\n",
       "        128, 179, 215, 233, 178,   3, 176, 194, 226, 200, 147, 182, 236,\n",
       "        185,  61, 189, 216]),\n",
       " array([ 36, 182, 170, 169, 183,  65,  15,  40, 177, 226,  44,  45, 148,\n",
       "        145, 221, 139, 187, 100, 221,  46,  48,  11, 114, 131,   0,  44,\n",
       "        210, 137,  15, 139, 187, 168, 192, 232, 237, 187, 225,  63, 127,\n",
       "         98, 237,  78, 169, 147, 170,   4,  73, 229, 168, 103, 138, 157,\n",
       "        230, 116, 110,  30, 152, 188,   9,  41, 143,  25, 168, 227,  20,\n",
       "         45, 224, 182,  25,  33,  47,  91, 232,  99, 124, 236, 159,  14,\n",
       "        131,  28,  74, 216,  17,  55, 219,  36,  37, 130,  10, 128,  21,\n",
       "        222, 104, 133, 103, 191,  18,  37,  17,  12, 196, 224,  47, 179,\n",
       "         71,   6,  40, 145, 200,   1,  14, 203, 126,  14, 225,  45, 211,\n",
       "        123, 201, 205,  88, 163,  70, 155,   4,  14,  20, 108,  76,  43,\n",
       "        167,  65,  20,  62, 205, 196, 224, 235,  87, 131, 159,  31, 201,\n",
       "        222, 134,  70,  55, 193, 202,  28, 191, 226, 230,  14, 228,  15,\n",
       "        180,   3,  96, 233, 100, 188, 235,  65,  54,  45, 157, 234, 214,\n",
       "        106,  49, 123,  87, 225, 110, 125, 147, 185, 135, 100,  96, 216,\n",
       "        200, 155,  25, 200,   7, 169, 109, 179,  26,  60,  49,  90, 147,\n",
       "         86, 103, 182, 137,  93,  60,  18,  25,  63, 146, 121,  61, 194,\n",
       "        196, 123, 226, 167, 154, 198, 212, 227,  60,  98,  96, 189,  92,\n",
       "        189, 158, 226,  60, 168,  29,  62, 204, 208,  76,  37,  17, 230,\n",
       "        114, 184, 215, 170]),\n",
       " array([214, 183, 117,  60, 196, 229, 228,  42, 184, 214, 167, 187, 202,\n",
       "         29, 161,  88,   6,  11,  92, 210, 106,  22, 154,  76,  75, 190,\n",
       "         97,  88,   2,  93,  14,  85,  13, 100,  56,  89, 100,  51,  68,\n",
       "        102, 123,  61, 123,   7, 223, 236,  71, 109, 222,   9, 208, 155,\n",
       "         22, 183,  67, 150,  31,  20,  76, 118, 180, 140, 174, 187,  30,\n",
       "         35, 122,  47, 140,  56, 171,  78,  89,  23, 207, 223, 216, 236,\n",
       "        195, 182, 155,  94, 191,  32, 143, 211, 181, 194,  19,   8, 101,\n",
       "         53,  21, 152, 135, 115, 140,  79, 164, 187, 208,  27, 200,  28,\n",
       "        163, 188, 226,  32,  31,  82, 235,  35, 163,  54,  78, 108,   0,\n",
       "        147,  44,  98, 145,  25, 185,  83, 206, 165, 230, 192, 221,  12,\n",
       "         65, 150,  78, 143, 141,  19, 193, 199, 111,  30, 157, 203, 231,\n",
       "        177, 107,  14,  21, 137, 201, 202, 208, 141,  16, 122, 130, 155,\n",
       "        168,  15, 232, 181,  81,  97,  59, 163,  98, 104, 214, 144, 132,\n",
       "        199,  65,  25,  83,  19,  30,  92,  71, 187,  96, 234, 169, 163,\n",
       "         12,  28,  87, 111, 170,  74, 205,   6, 166,  91,  25,  80, 103,\n",
       "        224,   0,  44,  84,   4,   4, 159, 185, 160, 169, 132,  44, 188,\n",
       "        171, 218,  94,  15, 217, 171, 125, 210,  43,  25,  54, 220, 180,\n",
       "         81,  30,  60, 174,  91,  65,  33, 202, 224,  58, 114, 192,  89,\n",
       "        201, 160, 180,  13])]"
      ]
     },
     "execution_count": 22,
     "metadata": {},
     "output_type": "execute_result"
    }
   ],
   "source": [
    "# Her bir ağaçtaki örnekler için\n",
    "bagging.estimators_samples_"
   ]
  },
  {
   "cell_type": "code",
   "execution_count": 23,
   "id": "4ff9690d",
   "metadata": {},
   "outputs": [
    {
     "data": {
      "text/plain": [
       "[array([13,  1, 17,  5,  5, 10, 14,  3,  2, 16,  2,  1, 17,  6,  8, 12,  6,\n",
       "         3, 13]),\n",
       " array([ 3,  9,  7, 14,  8,  7, 14, 17, 10,  6,  9,  3,  5,  0, 13,  7, 16,\n",
       "         0,  3]),\n",
       " array([11,  7, 11, 18, 14, 16,  7, 11,  2,  1, 18, 10,  1,  2, 15,  6, 13,\n",
       "         1, 17]),\n",
       " array([ 9, 17, 12,  7, 13,  4, 14,  6, 14,  9, 13, 16, 15, 14, 17, 14, 18,\n",
       "        12, 11]),\n",
       " array([ 1, 17, 12, 12, 12,  6, 15, 17, 16,  0,  1,  8,  5,  2,  6, 13,  0,\n",
       "        15,  9]),\n",
       " array([ 2, 18, 10,  5,  2,  3,  0,  1,  8,  6, 12, 13,  4, 16,  1,  9, 10,\n",
       "        11, 16]),\n",
       " array([ 7,  9, 14,  3, 17, 17, 11, 13, 10, 18, 11,  6,  3,  9,  2,  4, 13,\n",
       "         4,  8]),\n",
       " array([10,  2, 13,  0, 14, 12, 11, 10,  3, 16, 17, 17,  1, 11,  7, 18,  7,\n",
       "        17, 18]),\n",
       " array([ 1,  9,  8, 17,  2, 13,  3, 18,  1, 10, 18,  0, 10, 16, 16, 11,  1,\n",
       "        16,  5]),\n",
       " array([17, 10,  6,  6,  3, 14, 13, 16,  5,  9,  1, 15,  1,  0,  7,  0, 15,\n",
       "        14, 14])]"
      ]
     },
     "execution_count": 23,
     "metadata": {},
     "output_type": "execute_result"
    }
   ],
   "source": [
    "# Her bir ağacın bağımsız değişkenine ulaşmak için\n",
    "bagging.estimators_features_"
   ]
  },
  {
   "cell_type": "code",
   "execution_count": 25,
   "id": "89e9b2c3",
   "metadata": {},
   "outputs": [
    {
     "data": {
      "text/plain": [
       "[DecisionTreeRegressor(random_state=1833531455),\n",
       " DecisionTreeRegressor(random_state=918373910),\n",
       " DecisionTreeRegressor(random_state=950988185)]"
      ]
     },
     "execution_count": 25,
     "metadata": {},
     "output_type": "execute_result"
    }
   ],
   "source": [
    "# Her modele özel değerlere erişmeye çalışalım\n",
    "bagging.estimators_[:3]"
   ]
  },
  {
   "cell_type": "markdown",
   "id": "15c4582f",
   "metadata": {},
   "source": [
    "## Tahmin"
   ]
  },
  {
   "cell_type": "code",
   "execution_count": 29,
   "id": "6712dd3c",
   "metadata": {},
   "outputs": [],
   "source": [
    "y_pred = bagging.predict(X_test)"
   ]
  },
  {
   "cell_type": "code",
   "execution_count": 36,
   "id": "935560fa",
   "metadata": {},
   "outputs": [
    {
     "name": "stdout",
     "output_type": "stream",
     "text": [
      "Test Hatası:  278.99050677744646\n"
     ]
    }
   ],
   "source": [
    "print(\"Test Hatası: \", np.sqrt(mean_squared_error(y_pred, y_test)))"
   ]
  },
  {
   "cell_type": "code",
   "execution_count": 28,
   "id": "7e39820e",
   "metadata": {
    "scrolled": true
   },
   "outputs": [
    {
     "name": "stdout",
     "output_type": "stream",
     "text": [
      "Ağaç 1 için ortalama kareler Hata (MSE): 633.5211256568482\n",
      "Ağaç 2 için ortalama kareler Hata (MSE): 1373.0374592317282\n",
      "Ağaç 3 için ortalama kareler Hata (MSE): 468.2867075006507\n",
      "Ağaç 4 için ortalama kareler Hata (MSE): 545.6674342981446\n",
      "Ağaç 5 için ortalama kareler Hata (MSE): 492.44122334906126\n",
      "Ağaç 6 için ortalama kareler Hata (MSE): 358.052458056358\n",
      "Ağaç 7 için ortalama kareler Hata (MSE): 581.8801897757992\n",
      "Ağaç 8 için ortalama kareler Hata (MSE): 738.3071707992007\n",
      "Ağaç 9 için ortalama kareler Hata (MSE): 876.1733554498219\n",
      "Ağaç 10 için ortalama kareler Hata (MSE): 545.4970064569741\n"
     ]
    },
    {
     "name": "stderr",
     "output_type": "stream",
     "text": [
      "/Users/batuhanbilgili/opt/anaconda3/lib/python3.9/site-packages/sklearn/base.py:443: UserWarning: X has feature names, but DecisionTreeRegressor was fitted without feature names\n",
      "  warnings.warn(\n",
      "/Users/batuhanbilgili/opt/anaconda3/lib/python3.9/site-packages/sklearn/base.py:443: UserWarning: X has feature names, but DecisionTreeRegressor was fitted without feature names\n",
      "  warnings.warn(\n",
      "/Users/batuhanbilgili/opt/anaconda3/lib/python3.9/site-packages/sklearn/base.py:443: UserWarning: X has feature names, but DecisionTreeRegressor was fitted without feature names\n",
      "  warnings.warn(\n",
      "/Users/batuhanbilgili/opt/anaconda3/lib/python3.9/site-packages/sklearn/base.py:443: UserWarning: X has feature names, but DecisionTreeRegressor was fitted without feature names\n",
      "  warnings.warn(\n",
      "/Users/batuhanbilgili/opt/anaconda3/lib/python3.9/site-packages/sklearn/base.py:443: UserWarning: X has feature names, but DecisionTreeRegressor was fitted without feature names\n",
      "  warnings.warn(\n",
      "/Users/batuhanbilgili/opt/anaconda3/lib/python3.9/site-packages/sklearn/base.py:443: UserWarning: X has feature names, but DecisionTreeRegressor was fitted without feature names\n",
      "  warnings.warn(\n",
      "/Users/batuhanbilgili/opt/anaconda3/lib/python3.9/site-packages/sklearn/base.py:443: UserWarning: X has feature names, but DecisionTreeRegressor was fitted without feature names\n",
      "  warnings.warn(\n",
      "/Users/batuhanbilgili/opt/anaconda3/lib/python3.9/site-packages/sklearn/base.py:443: UserWarning: X has feature names, but DecisionTreeRegressor was fitted without feature names\n",
      "  warnings.warn(\n",
      "/Users/batuhanbilgili/opt/anaconda3/lib/python3.9/site-packages/sklearn/base.py:443: UserWarning: X has feature names, but DecisionTreeRegressor was fitted without feature names\n",
      "  warnings.warn(\n",
      "/Users/batuhanbilgili/opt/anaconda3/lib/python3.9/site-packages/sklearn/base.py:443: UserWarning: X has feature names, but DecisionTreeRegressor was fitted without feature names\n",
      "  warnings.warn(\n"
     ]
    }
   ],
   "source": [
    "# Her bir ağaç için hata değeri\n",
    "for i, estimator in enumerate(bagging.estimators_):\n",
    "    y_pred = estimator.predict(X_test)\n",
    "    mse = np.sqrt(mean_squared_error(y_test, y_pred))\n",
    "    print(f\"Ağaç {i+1} için ortalama kareler Hata (MSE): {mse}\")"
   ]
  },
  {
   "cell_type": "markdown",
   "id": "61ede731",
   "metadata": {},
   "source": [
    "## Model Tuning"
   ]
  },
  {
   "cell_type": "code",
   "execution_count": 68,
   "id": "16b64cfb",
   "metadata": {},
   "outputs": [
    {
     "data": {
      "text/html": [
       "<style>#sk-container-id-10 {color: black;background-color: white;}#sk-container-id-10 pre{padding: 0;}#sk-container-id-10 div.sk-toggleable {background-color: white;}#sk-container-id-10 label.sk-toggleable__label {cursor: pointer;display: block;width: 100%;margin-bottom: 0;padding: 0.3em;box-sizing: border-box;text-align: center;}#sk-container-id-10 label.sk-toggleable__label-arrow:before {content: \"▸\";float: left;margin-right: 0.25em;color: #696969;}#sk-container-id-10 label.sk-toggleable__label-arrow:hover:before {color: black;}#sk-container-id-10 div.sk-estimator:hover label.sk-toggleable__label-arrow:before {color: black;}#sk-container-id-10 div.sk-toggleable__content {max-height: 0;max-width: 0;overflow: hidden;text-align: left;background-color: #f0f8ff;}#sk-container-id-10 div.sk-toggleable__content pre {margin: 0.2em;color: black;border-radius: 0.25em;background-color: #f0f8ff;}#sk-container-id-10 input.sk-toggleable__control:checked~div.sk-toggleable__content {max-height: 200px;max-width: 100%;overflow: auto;}#sk-container-id-10 input.sk-toggleable__control:checked~label.sk-toggleable__label-arrow:before {content: \"▾\";}#sk-container-id-10 div.sk-estimator input.sk-toggleable__control:checked~label.sk-toggleable__label {background-color: #d4ebff;}#sk-container-id-10 div.sk-label input.sk-toggleable__control:checked~label.sk-toggleable__label {background-color: #d4ebff;}#sk-container-id-10 input.sk-hidden--visually {border: 0;clip: rect(1px 1px 1px 1px);clip: rect(1px, 1px, 1px, 1px);height: 1px;margin: -1px;overflow: hidden;padding: 0;position: absolute;width: 1px;}#sk-container-id-10 div.sk-estimator {font-family: monospace;background-color: #f0f8ff;border: 1px dotted black;border-radius: 0.25em;box-sizing: border-box;margin-bottom: 0.5em;}#sk-container-id-10 div.sk-estimator:hover {background-color: #d4ebff;}#sk-container-id-10 div.sk-parallel-item::after {content: \"\";width: 100%;border-bottom: 1px solid gray;flex-grow: 1;}#sk-container-id-10 div.sk-label:hover label.sk-toggleable__label {background-color: #d4ebff;}#sk-container-id-10 div.sk-serial::before {content: \"\";position: absolute;border-left: 1px solid gray;box-sizing: border-box;top: 0;bottom: 0;left: 50%;z-index: 0;}#sk-container-id-10 div.sk-serial {display: flex;flex-direction: column;align-items: center;background-color: white;padding-right: 0.2em;padding-left: 0.2em;position: relative;}#sk-container-id-10 div.sk-item {position: relative;z-index: 1;}#sk-container-id-10 div.sk-parallel {display: flex;align-items: stretch;justify-content: center;background-color: white;position: relative;}#sk-container-id-10 div.sk-item::before, #sk-container-id-10 div.sk-parallel-item::before {content: \"\";position: absolute;border-left: 1px solid gray;box-sizing: border-box;top: 0;bottom: 0;left: 50%;z-index: -1;}#sk-container-id-10 div.sk-parallel-item {display: flex;flex-direction: column;z-index: 1;position: relative;background-color: white;}#sk-container-id-10 div.sk-parallel-item:first-child::after {align-self: flex-end;width: 50%;}#sk-container-id-10 div.sk-parallel-item:last-child::after {align-self: flex-start;width: 50%;}#sk-container-id-10 div.sk-parallel-item:only-child::after {width: 0;}#sk-container-id-10 div.sk-dashed-wrapped {border: 1px dashed gray;margin: 0 0.4em 0.5em 0.4em;box-sizing: border-box;padding-bottom: 0.4em;background-color: white;}#sk-container-id-10 div.sk-label label {font-family: monospace;font-weight: bold;display: inline-block;line-height: 1.2em;}#sk-container-id-10 div.sk-label-container {text-align: center;}#sk-container-id-10 div.sk-container {/* jupyter's `normalize.less` sets `[hidden] { display: none; }` but bootstrap.min.css set `[hidden] { display: none !important; }` so we also need the `!important` here to be able to override the default hidden behavior on the sphinx rendered scikit-learn.org. See: https://github.com/scikit-learn/scikit-learn/issues/21755 */display: inline-block !important;position: relative;}#sk-container-id-10 div.sk-text-repr-fallback {display: none;}</style><div id=\"sk-container-id-10\" class=\"sk-top-container\"><div class=\"sk-text-repr-fallback\"><pre>BaggingRegressor(bootstrap_features=True)</pre><b>In a Jupyter environment, please rerun this cell to show the HTML representation or trust the notebook. <br />On GitHub, the HTML representation is unable to render, please try loading this page with nbviewer.org.</b></div><div class=\"sk-container\" hidden><div class=\"sk-item\"><div class=\"sk-estimator sk-toggleable\"><input class=\"sk-toggleable__control sk-hidden--visually\" id=\"sk-estimator-id-14\" type=\"checkbox\" checked><label for=\"sk-estimator-id-14\" class=\"sk-toggleable__label sk-toggleable__label-arrow\">BaggingRegressor</label><div class=\"sk-toggleable__content\"><pre>BaggingRegressor(bootstrap_features=True)</pre></div></div></div></div></div>"
      ],
      "text/plain": [
       "BaggingRegressor(bootstrap_features=True)"
      ]
     },
     "execution_count": 68,
     "metadata": {},
     "output_type": "execute_result"
    }
   ],
   "source": [
    "# Model Kurulumu\n",
    "bagging = BaggingRegressor(bootstrap_features = True)\n",
    "\n",
    "# Model Eğitimi\n",
    "bagging.fit(X_train, y_train)"
   ]
  },
  {
   "cell_type": "code",
   "execution_count": 69,
   "id": "ced5b810",
   "metadata": {},
   "outputs": [],
   "source": [
    "# Parametre aralığı oluşturma\n",
    "bag_params = {\"n_estimators\": range(2,20)}"
   ]
  },
  {
   "cell_type": "code",
   "execution_count": 70,
   "id": "f8c2e599",
   "metadata": {},
   "outputs": [],
   "source": [
    "# En iyi Parametreyi seçme işlemi \n",
    "bag_cv_model = GridSearchCV(bagging, bag_params, cv=10)"
   ]
  },
  {
   "cell_type": "code",
   "execution_count": 71,
   "id": "997975a7",
   "metadata": {},
   "outputs": [
    {
     "data": {
      "text/html": [
       "<style>#sk-container-id-11 {color: black;background-color: white;}#sk-container-id-11 pre{padding: 0;}#sk-container-id-11 div.sk-toggleable {background-color: white;}#sk-container-id-11 label.sk-toggleable__label {cursor: pointer;display: block;width: 100%;margin-bottom: 0;padding: 0.3em;box-sizing: border-box;text-align: center;}#sk-container-id-11 label.sk-toggleable__label-arrow:before {content: \"▸\";float: left;margin-right: 0.25em;color: #696969;}#sk-container-id-11 label.sk-toggleable__label-arrow:hover:before {color: black;}#sk-container-id-11 div.sk-estimator:hover label.sk-toggleable__label-arrow:before {color: black;}#sk-container-id-11 div.sk-toggleable__content {max-height: 0;max-width: 0;overflow: hidden;text-align: left;background-color: #f0f8ff;}#sk-container-id-11 div.sk-toggleable__content pre {margin: 0.2em;color: black;border-radius: 0.25em;background-color: #f0f8ff;}#sk-container-id-11 input.sk-toggleable__control:checked~div.sk-toggleable__content {max-height: 200px;max-width: 100%;overflow: auto;}#sk-container-id-11 input.sk-toggleable__control:checked~label.sk-toggleable__label-arrow:before {content: \"▾\";}#sk-container-id-11 div.sk-estimator input.sk-toggleable__control:checked~label.sk-toggleable__label {background-color: #d4ebff;}#sk-container-id-11 div.sk-label input.sk-toggleable__control:checked~label.sk-toggleable__label {background-color: #d4ebff;}#sk-container-id-11 input.sk-hidden--visually {border: 0;clip: rect(1px 1px 1px 1px);clip: rect(1px, 1px, 1px, 1px);height: 1px;margin: -1px;overflow: hidden;padding: 0;position: absolute;width: 1px;}#sk-container-id-11 div.sk-estimator {font-family: monospace;background-color: #f0f8ff;border: 1px dotted black;border-radius: 0.25em;box-sizing: border-box;margin-bottom: 0.5em;}#sk-container-id-11 div.sk-estimator:hover {background-color: #d4ebff;}#sk-container-id-11 div.sk-parallel-item::after {content: \"\";width: 100%;border-bottom: 1px solid gray;flex-grow: 1;}#sk-container-id-11 div.sk-label:hover label.sk-toggleable__label {background-color: #d4ebff;}#sk-container-id-11 div.sk-serial::before {content: \"\";position: absolute;border-left: 1px solid gray;box-sizing: border-box;top: 0;bottom: 0;left: 50%;z-index: 0;}#sk-container-id-11 div.sk-serial {display: flex;flex-direction: column;align-items: center;background-color: white;padding-right: 0.2em;padding-left: 0.2em;position: relative;}#sk-container-id-11 div.sk-item {position: relative;z-index: 1;}#sk-container-id-11 div.sk-parallel {display: flex;align-items: stretch;justify-content: center;background-color: white;position: relative;}#sk-container-id-11 div.sk-item::before, #sk-container-id-11 div.sk-parallel-item::before {content: \"\";position: absolute;border-left: 1px solid gray;box-sizing: border-box;top: 0;bottom: 0;left: 50%;z-index: -1;}#sk-container-id-11 div.sk-parallel-item {display: flex;flex-direction: column;z-index: 1;position: relative;background-color: white;}#sk-container-id-11 div.sk-parallel-item:first-child::after {align-self: flex-end;width: 50%;}#sk-container-id-11 div.sk-parallel-item:last-child::after {align-self: flex-start;width: 50%;}#sk-container-id-11 div.sk-parallel-item:only-child::after {width: 0;}#sk-container-id-11 div.sk-dashed-wrapped {border: 1px dashed gray;margin: 0 0.4em 0.5em 0.4em;box-sizing: border-box;padding-bottom: 0.4em;background-color: white;}#sk-container-id-11 div.sk-label label {font-family: monospace;font-weight: bold;display: inline-block;line-height: 1.2em;}#sk-container-id-11 div.sk-label-container {text-align: center;}#sk-container-id-11 div.sk-container {/* jupyter's `normalize.less` sets `[hidden] { display: none; }` but bootstrap.min.css set `[hidden] { display: none !important; }` so we also need the `!important` here to be able to override the default hidden behavior on the sphinx rendered scikit-learn.org. See: https://github.com/scikit-learn/scikit-learn/issues/21755 */display: inline-block !important;position: relative;}#sk-container-id-11 div.sk-text-repr-fallback {display: none;}</style><div id=\"sk-container-id-11\" class=\"sk-top-container\"><div class=\"sk-text-repr-fallback\"><pre>GridSearchCV(cv=10, estimator=BaggingRegressor(bootstrap_features=True),\n",
       "             param_grid={&#x27;n_estimators&#x27;: range(2, 20)})</pre><b>In a Jupyter environment, please rerun this cell to show the HTML representation or trust the notebook. <br />On GitHub, the HTML representation is unable to render, please try loading this page with nbviewer.org.</b></div><div class=\"sk-container\" hidden><div class=\"sk-item sk-dashed-wrapped\"><div class=\"sk-label-container\"><div class=\"sk-label sk-toggleable\"><input class=\"sk-toggleable__control sk-hidden--visually\" id=\"sk-estimator-id-15\" type=\"checkbox\" ><label for=\"sk-estimator-id-15\" class=\"sk-toggleable__label sk-toggleable__label-arrow\">GridSearchCV</label><div class=\"sk-toggleable__content\"><pre>GridSearchCV(cv=10, estimator=BaggingRegressor(bootstrap_features=True),\n",
       "             param_grid={&#x27;n_estimators&#x27;: range(2, 20)})</pre></div></div></div><div class=\"sk-parallel\"><div class=\"sk-parallel-item\"><div class=\"sk-item\"><div class=\"sk-label-container\"><div class=\"sk-label sk-toggleable\"><input class=\"sk-toggleable__control sk-hidden--visually\" id=\"sk-estimator-id-16\" type=\"checkbox\" ><label for=\"sk-estimator-id-16\" class=\"sk-toggleable__label sk-toggleable__label-arrow\">estimator: BaggingRegressor</label><div class=\"sk-toggleable__content\"><pre>BaggingRegressor(bootstrap_features=True)</pre></div></div></div><div class=\"sk-serial\"><div class=\"sk-item\"><div class=\"sk-estimator sk-toggleable\"><input class=\"sk-toggleable__control sk-hidden--visually\" id=\"sk-estimator-id-17\" type=\"checkbox\" ><label for=\"sk-estimator-id-17\" class=\"sk-toggleable__label sk-toggleable__label-arrow\">BaggingRegressor</label><div class=\"sk-toggleable__content\"><pre>BaggingRegressor(bootstrap_features=True)</pre></div></div></div></div></div></div></div></div></div></div>"
      ],
      "text/plain": [
       "GridSearchCV(cv=10, estimator=BaggingRegressor(bootstrap_features=True),\n",
       "             param_grid={'n_estimators': range(2, 20)})"
      ]
     },
     "execution_count": 71,
     "metadata": {},
     "output_type": "execute_result"
    }
   ],
   "source": [
    "# Modeli eğitme\n",
    "bag_cv_model.fit(X_train, y_train)"
   ]
  },
  {
   "cell_type": "code",
   "execution_count": 72,
   "id": "3d500b1a",
   "metadata": {},
   "outputs": [
    {
     "data": {
      "text/plain": [
       "{'n_estimators': 7}"
      ]
     },
     "execution_count": 72,
     "metadata": {},
     "output_type": "execute_result"
    }
   ],
   "source": [
    "# En iyi parametreyi öğrenme\n",
    "bag_cv_model.best_params_"
   ]
  },
  {
   "cell_type": "code",
   "execution_count": 73,
   "id": "9e3b6d3a",
   "metadata": {},
   "outputs": [],
   "source": [
    "# En iyi parametre ile model oluşumu\n",
    "bag_tuned = BaggingRegressor(n_estimators = 7, random_state = 45)"
   ]
  },
  {
   "cell_type": "code",
   "execution_count": 74,
   "id": "de584985",
   "metadata": {},
   "outputs": [
    {
     "data": {
      "text/html": [
       "<style>#sk-container-id-12 {color: black;background-color: white;}#sk-container-id-12 pre{padding: 0;}#sk-container-id-12 div.sk-toggleable {background-color: white;}#sk-container-id-12 label.sk-toggleable__label {cursor: pointer;display: block;width: 100%;margin-bottom: 0;padding: 0.3em;box-sizing: border-box;text-align: center;}#sk-container-id-12 label.sk-toggleable__label-arrow:before {content: \"▸\";float: left;margin-right: 0.25em;color: #696969;}#sk-container-id-12 label.sk-toggleable__label-arrow:hover:before {color: black;}#sk-container-id-12 div.sk-estimator:hover label.sk-toggleable__label-arrow:before {color: black;}#sk-container-id-12 div.sk-toggleable__content {max-height: 0;max-width: 0;overflow: hidden;text-align: left;background-color: #f0f8ff;}#sk-container-id-12 div.sk-toggleable__content pre {margin: 0.2em;color: black;border-radius: 0.25em;background-color: #f0f8ff;}#sk-container-id-12 input.sk-toggleable__control:checked~div.sk-toggleable__content {max-height: 200px;max-width: 100%;overflow: auto;}#sk-container-id-12 input.sk-toggleable__control:checked~label.sk-toggleable__label-arrow:before {content: \"▾\";}#sk-container-id-12 div.sk-estimator input.sk-toggleable__control:checked~label.sk-toggleable__label {background-color: #d4ebff;}#sk-container-id-12 div.sk-label input.sk-toggleable__control:checked~label.sk-toggleable__label {background-color: #d4ebff;}#sk-container-id-12 input.sk-hidden--visually {border: 0;clip: rect(1px 1px 1px 1px);clip: rect(1px, 1px, 1px, 1px);height: 1px;margin: -1px;overflow: hidden;padding: 0;position: absolute;width: 1px;}#sk-container-id-12 div.sk-estimator {font-family: monospace;background-color: #f0f8ff;border: 1px dotted black;border-radius: 0.25em;box-sizing: border-box;margin-bottom: 0.5em;}#sk-container-id-12 div.sk-estimator:hover {background-color: #d4ebff;}#sk-container-id-12 div.sk-parallel-item::after {content: \"\";width: 100%;border-bottom: 1px solid gray;flex-grow: 1;}#sk-container-id-12 div.sk-label:hover label.sk-toggleable__label {background-color: #d4ebff;}#sk-container-id-12 div.sk-serial::before {content: \"\";position: absolute;border-left: 1px solid gray;box-sizing: border-box;top: 0;bottom: 0;left: 50%;z-index: 0;}#sk-container-id-12 div.sk-serial {display: flex;flex-direction: column;align-items: center;background-color: white;padding-right: 0.2em;padding-left: 0.2em;position: relative;}#sk-container-id-12 div.sk-item {position: relative;z-index: 1;}#sk-container-id-12 div.sk-parallel {display: flex;align-items: stretch;justify-content: center;background-color: white;position: relative;}#sk-container-id-12 div.sk-item::before, #sk-container-id-12 div.sk-parallel-item::before {content: \"\";position: absolute;border-left: 1px solid gray;box-sizing: border-box;top: 0;bottom: 0;left: 50%;z-index: -1;}#sk-container-id-12 div.sk-parallel-item {display: flex;flex-direction: column;z-index: 1;position: relative;background-color: white;}#sk-container-id-12 div.sk-parallel-item:first-child::after {align-self: flex-end;width: 50%;}#sk-container-id-12 div.sk-parallel-item:last-child::after {align-self: flex-start;width: 50%;}#sk-container-id-12 div.sk-parallel-item:only-child::after {width: 0;}#sk-container-id-12 div.sk-dashed-wrapped {border: 1px dashed gray;margin: 0 0.4em 0.5em 0.4em;box-sizing: border-box;padding-bottom: 0.4em;background-color: white;}#sk-container-id-12 div.sk-label label {font-family: monospace;font-weight: bold;display: inline-block;line-height: 1.2em;}#sk-container-id-12 div.sk-label-container {text-align: center;}#sk-container-id-12 div.sk-container {/* jupyter's `normalize.less` sets `[hidden] { display: none; }` but bootstrap.min.css set `[hidden] { display: none !important; }` so we also need the `!important` here to be able to override the default hidden behavior on the sphinx rendered scikit-learn.org. See: https://github.com/scikit-learn/scikit-learn/issues/21755 */display: inline-block !important;position: relative;}#sk-container-id-12 div.sk-text-repr-fallback {display: none;}</style><div id=\"sk-container-id-12\" class=\"sk-top-container\"><div class=\"sk-text-repr-fallback\"><pre>BaggingRegressor(n_estimators=7, random_state=45)</pre><b>In a Jupyter environment, please rerun this cell to show the HTML representation or trust the notebook. <br />On GitHub, the HTML representation is unable to render, please try loading this page with nbviewer.org.</b></div><div class=\"sk-container\" hidden><div class=\"sk-item\"><div class=\"sk-estimator sk-toggleable\"><input class=\"sk-toggleable__control sk-hidden--visually\" id=\"sk-estimator-id-18\" type=\"checkbox\" checked><label for=\"sk-estimator-id-18\" class=\"sk-toggleable__label sk-toggleable__label-arrow\">BaggingRegressor</label><div class=\"sk-toggleable__content\"><pre>BaggingRegressor(n_estimators=7, random_state=45)</pre></div></div></div></div></div>"
      ],
      "text/plain": [
       "BaggingRegressor(n_estimators=7, random_state=45)"
      ]
     },
     "execution_count": 74,
     "metadata": {},
     "output_type": "execute_result"
    }
   ],
   "source": [
    "# Model eğitimi\n",
    "bag_tuned.fit(X_train, y_train)"
   ]
  },
  {
   "cell_type": "code",
   "execution_count": 75,
   "id": "204fd254",
   "metadata": {},
   "outputs": [],
   "source": [
    "y_pred = bag_tuned.predict(X_test)"
   ]
  },
  {
   "cell_type": "code",
   "execution_count": 76,
   "id": "3687f07b",
   "metadata": {
    "scrolled": true
   },
   "outputs": [
    {
     "data": {
      "text/plain": [
       "273.2577952009809"
      ]
     },
     "execution_count": 76,
     "metadata": {},
     "output_type": "execute_result"
    }
   ],
   "source": [
    "np.sqrt(mean_squared_error(y_pred, y_test))"
   ]
  }
 ],
 "metadata": {
  "kernelspec": {
   "display_name": "Python 3 (ipykernel)",
   "language": "python",
   "name": "python3"
  },
  "language_info": {
   "codemirror_mode": {
    "name": "ipython",
    "version": 3
   },
   "file_extension": ".py",
   "mimetype": "text/x-python",
   "name": "python",
   "nbconvert_exporter": "python",
   "pygments_lexer": "ipython3",
   "version": "3.9.13"
  }
 },
 "nbformat": 4,
 "nbformat_minor": 5
}
